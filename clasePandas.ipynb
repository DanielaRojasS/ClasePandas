{
  "nbformat": 4,
  "nbformat_minor": 0,
  "metadata": {
    "colab": {
      "provenance": [],
      "include_colab_link": true
    },
    "kernelspec": {
      "name": "python3",
      "display_name": "Python 3"
    },
    "language_info": {
      "name": "python"
    }
  },
  "cells": [
    {
      "cell_type": "markdown",
      "metadata": {
        "id": "view-in-github",
        "colab_type": "text"
      },
      "source": [
        "<a href=\"https://colab.research.google.com/github/DanielaRojasS/ClasePandas/blob/main/clasePandas.ipynb\" target=\"_parent\"><img src=\"https://colab.research.google.com/assets/colab-badge.svg\" alt=\"Open In Colab\"/></a>"
      ]
    },
    {
      "cell_type": "code",
      "execution_count": null,
      "metadata": {
        "colab": {
          "base_uri": "https://localhost:8080/"
        },
        "id": "zIrFqbEqqAK_",
        "outputId": "6ad9dfc0-0c4e-4625-d3f9-a7f49623dc9b"
      },
      "outputs": [
        {
          "output_type": "stream",
          "name": "stdout",
          "text": [
            "      principio_activo                      unidad_de_dispensacion  \\\n",
            "0      acido valproico                           Tableta o cápsula   \n",
            "1           fluoxetina                           Tableta o cápsula   \n",
            "2       proximetacaina             Solución o suspensión oftálmica   \n",
            "3           alopurinol                           Tableta o cápsula   \n",
            "4          haloperidol                           Tableta o cápsula   \n",
            "...                ...                                         ...   \n",
            "11869  acido valproico  Tableta o cápsula de liberación modificada   \n",
            "11870         atropina             Solución o suspensión oftálmica   \n",
            "11871     valaciclovir                           Tableta o cápsula   \n",
            "11872       budesonida                                   Aerosoles   \n",
            "11873     metocarbamol                           Tableta o cápsula   \n",
            "\n",
            "                concentracion unidad_base nombre_comercial       fabricante  \\\n",
            "0      acido valproico 500 mg          mg          Valcote        Lafrancol   \n",
            "1            fluoxetina 20 mg          mg       Fluoxetina           Genfar   \n",
            "2         proximetacaina 5 mg          ml          Alcaine            Alcon   \n",
            "3           alopurinol 300 mg          mg       Alopurinol          Memphis   \n",
            "4           haloperidol 10 mg          mg      Haloperidol          Memphis   \n",
            "...                       ...         ...              ...              ...   \n",
            "11869  acido valproico 250 mg          mg          Valcote        Lafrancol   \n",
            "11870          atropina 10 mg          ml         Atropina            Alcon   \n",
            "11871     valaciclovir 500 mg          mg          Valtrex  Glaxosmithkline   \n",
            "11872       budesonida 50 mcg       dosis           B-Cort       Grunenthal   \n",
            "11873     metocarbamol 750 mg          mg     Metocarbamol          Memphis   \n",
            "\n",
            "      factoresprecio  numerofactor  new  \n",
            "0              Medio             2   15  \n",
            "1              Medio             2   10  \n",
            "2              Medio             2   14  \n",
            "3              Medio             2   10  \n",
            "4               Alto             3   11  \n",
            "...              ...           ...  ...  \n",
            "11869          Medio             2   15  \n",
            "11870          Medio             2    8  \n",
            "11871           Alto             3   12  \n",
            "11872          Medio             2   10  \n",
            "11873           Alto             3   12  \n",
            "\n",
            "[11874 rows x 9 columns]\n"
          ]
        }
      ],
      "source": [
        "import pandas as pd\n",
        "\n",
        "# cargar el archivo\n",
        "url = '/content/Precios_Medicamentos_20240413.csv'\n",
        "df = pd.read_csv(url)\n",
        "\n",
        "# mostrar las primeras filas\n",
        "#print(df.head())\n",
        "\n",
        "# calcular estadistica descriptiva\n",
        "#print(df.describe())\n",
        "\n",
        "# filtrar los datos\n",
        "#filtro = df['principio_activo'] == 'acido valproico'\n",
        "#datos_filtrados = df[filtro]\n",
        "#print(datos_filtrados)\n",
        "\n",
        "# revisar cantidad de columnas y filas\n",
        "#shape = df.shape\n",
        "#print(shape)\n",
        "\n",
        "# mostrar los ultimos datos del df\n",
        "#tail = df.tail()\n",
        "#print(tail)\n",
        "\n",
        "# valores unicos\n",
        "#unique = df['fabricante'].unique()\n",
        "#df['fabricante'].drop_duplicates()\n",
        "#print(unique)\n",
        "\n",
        "# contar valores\n",
        "#count_unique_values = df['fabricante'].value_counts()\n",
        "#print(count_unique_values)\n",
        "\n",
        "# estaditica\n",
        "#print(df['numerofactor'].mean())\n",
        "\n",
        "# resumen del df\n",
        "#print(df.info())\n",
        "\n",
        "# ver elementos aleatorios\n",
        "#print(df.sample(5))\n",
        "\n",
        "# construir un df del df\n",
        "#df[['principio_activo', 'concentracion', 'factoresprecio']]\n",
        "\n",
        "# crear una nueva columna\n",
        "#df['new'] = df['principio_activo'].apply(lambda x: len(str(x)))\n",
        "#print(df)\n",
        "#df.drop('new', axis = 'columns')\n",
        "#df.drop(1, axis= 'index')\n"
      ]
    }
  ]
}